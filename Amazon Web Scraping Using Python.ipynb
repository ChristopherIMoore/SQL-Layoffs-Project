{
 "cells": [
  {
   "cell_type": "markdown",
   "id": "d24fd73a-1ea5-42fc-b45e-30b7f0957a16",
   "metadata": {},
   "source": [
    "## Amazon Web Scraping Using Python"
   ]
  },
  {
   "cell_type": "code",
   "execution_count": 4,
   "id": "d3013705-5965-4a99-8554-9af0aa5f0669",
   "metadata": {},
   "outputs": [],
   "source": [
    "#importing the libraries i will need\n",
    "from bs4 import BeautifulSoup\n",
    "import requests\n",
    "import time\n",
    "import datetime\n",
    "import smtplib"
   ]
  },
  {
   "cell_type": "code",
   "execution_count": 36,
   "id": "befbde40-e6c4-4d18-8b17-83d6afb2155c",
   "metadata": {},
   "outputs": [
    {
     "name": "stdout",
     "output_type": "stream",
     "text": [
      "Data Analyst Definition Data Analysis T-Shirt\n",
      "16.99\n"
     ]
    }
   ],
   "source": [
    "# connect  to website\n",
    "URL = 'https://www.amazon.co.uk/Data-Analyst-Definition-Analysis-T-Shirt/dp/B0C1TG8MM4/ref=sr_1_4?crid=3VKOUYKPYRMPM&dib=eyJ2IjoiMSJ9.jnfcK9Bap-3lq_bQqoM_kjkFTzkEaXZWjbXpIh3KP1JuIfnTePWnL73p7Az7BpWHkjQTyw931meWJg6znDYz6IUebBEnwGxK768YEoUIUpHIiOwcqp4xwZuf-wC27ho4wCGzQ1ou0TboolZy_5CGgz0ZijB_zX7ScU59tJVdXFyC5gw4xOqQgGkaLyit_mYN0tPfan1SG6C23tsRjUwmiuJ_w6IKJkLbFiRFxu4etGeLbXmN7p1A4VaSuPJLqlCMwHVQMMA9XVMg9bN16rx1NRa_A9Z_eVvUCdO6GT_zuB0tmNRALtOiC0S1fxaDqn4g-Mh1ysC_w6bgPMkNEIxbC-0O4YzRH9McnFJeuvkRdMTkEUYYaa0fCb6q3m4X7AljHWimwM156g-MMLKRsMcmWub0ctKoWFsJXHj-vg7PQWkvXC86d3dz0gr_-XWvUMyY.sOoFaRonCP9lCeriMl1Vex88SX_k9JlGeka6sJQSVZY&dib_tag=se&keywords=data+analysis+shirt&qid=1739529633&sprefix=data+analysis+shirt%2Caps%2C80&sr=8-4'\n",
    "\n",
    "headers = {\"User-Agent\": \"Mozilla/5.0 (Windows NT 10.0; Win64; x64) AppleWebKit/537.36 (KHTML, like Gecko) Chrome/130.0.0.0 Safari/537.36 OPR/115.0.0.0 (Edition std-1)\"}\n",
    "\n",
    "page = requests.get(URL, headers = headers)\n",
    "\n",
    "soup1 = BeautifulSoup(page.content,\"html.parser\")\n",
    "soup2 = BeautifulSoup(soup1.prettify(), \"html.parser\")\n",
    "\n",
    "title = soup2.find(id = 'productTitle').get_text(strip=True)\n",
    "\n",
    "price = soup2.find('span', class_='aok-offscreen').get_text(strip=True)[1:]\n",
    "\n",
    "print(title)\n",
    "print(price)"
   ]
  },
  {
   "cell_type": "code",
   "execution_count": 46,
   "id": "0b2727dc-772a-41c0-8fb3-5dc0c780aaba",
   "metadata": {},
   "outputs": [
    {
     "name": "stdout",
     "output_type": "stream",
     "text": [
      "2025-02-14\n"
     ]
    }
   ],
   "source": [
    "import datetime\n",
    "today = datetime.date.today()\n",
    "print(today)"
   ]
  },
  {
   "cell_type": "code",
   "execution_count": 256,
   "id": "808ae02e-d791-4ec7-8e07-276f26067028",
   "metadata": {},
   "outputs": [],
   "source": [
    "import csv\n",
    "\n",
    "header = ['Title', ' Price', 'Date']\n",
    "data = [title, price, today]\n",
    "\n",
    "with open('AmazonScrapingTest.csv', 'w', newline = '', encoding = 'UTF8') as f:\n",
    "    writer = csv.writer(f)\n",
    "    writer.writerow(header)\n",
    "    writer.writerow(data)"
   ]
  },
  {
   "cell_type": "code",
   "execution_count": 66,
   "id": "399fa449-52b0-4a05-80e5-2b8a7c4f3e78",
   "metadata": {},
   "outputs": [
    {
     "name": "stdout",
     "output_type": "stream",
     "text": [
      "                                           Title   Price        Date\n",
      "0  Data Analyst Definition Data Analysis T-Shirt   16.99  2025-02-14\n",
      "1  Data Analyst Definition Data Analysis T-Shirt   16.99  2025-02-14\n",
      "2  Data Analyst Definition Data Analysis T-Shirt   16.99  2025-02-14\n",
      "3  Data Analyst Definition Data Analysis T-Shirt   16.99  2025-02-14\n"
     ]
    }
   ],
   "source": [
    "import pandas as pd\n",
    "df = pd.read_csv(r\"C:\\Users\\Christopher Moore\\AmazonScrapingTest.csv\")\n",
    "print(df)"
   ]
  },
  {
   "cell_type": "code",
   "execution_count": 176,
   "id": "74982e03-56d0-4187-aa64-88e4f8200bd9",
   "metadata": {},
   "outputs": [],
   "source": [
    "#now we are appending data to csv by putting a+ rather than w\n",
    "with open('AmazonScrapingTest.csv', 'a+', newline = '', encoding = 'UTF8') as f:\n",
    "    writer = csv.writer(f)\n",
    "    writer.writerow(data)"
   ]
  },
  {
   "cell_type": "code",
   "execution_count": 315,
   "id": "e9b8c725-3a99-4355-b2f6-9f92aab5936b",
   "metadata": {},
   "outputs": [],
   "source": [
    "\n",
    "def check_price():\n",
    "    URL = 'https://www.amazon.co.uk/Data-Analyst-Definition-Analysis-T-Shirt/dp/B0C1TG8MM4/ref=sr_1_4?crid=3VKOUYKPYRMPM&dib=eyJ2IjoiMSJ9.jnfcK9Bap-3lq_bQqoM_kjkFTzkEaXZWjbXpIh3KP1JuIfnTePWnL73p7Az7BpWHkjQTyw931meWJg6znDYz6IUebBEnwGxK768YEoUIUpHIiOwcqp4xwZuf-wC27ho4wCGzQ1ou0TboolZy_5CGgz0ZijB_zX7ScU59tJVdXFyC5gw4xOqQgGkaLyit_mYN0tPfan1SG6C23tsRjUwmiuJ_w6IKJkLbFiRFxu4etGeLbXmN7p1A4VaSuPJLqlCMwHVQMMA9XVMg9bN16rx1NRa_A9Z_eVvUCdO6GT_zuB0tmNRALtOiC0S1fxaDqn4g-Mh1ysC_w6bgPMkNEIxbC-0O4YzRH9McnFJeuvkRdMTkEUYYaa0fCb6q3m4X7AljHWimwM156g-MMLKRsMcmWub0ctKoWFsJXHj-vg7PQWkvXC86d3dz0gr_-XWvUMyY.sOoFaRonCP9lCeriMl1Vex88SX_k9JlGeka6sJQSVZY&dib_tag=se&keywords=data+analysis+shirt&qid=1739529633&sprefix=data+analysis+shirt%2Caps%2C80&sr=8-4'\n",
    "    headers = {\"User-Agent\": \"Mozilla/5.0 (Windows NT 10.0; Win64; x64) AppleWebKit/537.36 (KHTML, like Gecko) Chrome/130.0.0.0 Safari/537.36 OPR/115.0.0.0 (Edition std-1)\"}\n",
    "    page = requests.get(URL, headers = headers)\n",
    "    soup1 = BeautifulSoup(page.content,\"html.parser\")\n",
    "    soup2 = BeautifulSoup(soup1.prettify(), \"html.parser\")\n",
    "    title = soup2.find(id = 'productTitle').get_text(strip=True)\n",
    "    price = soup2.find('span', class_='aok-offscreen').get_text(strip=True)[1:]\n",
    "    import datetime\n",
    "    today = datetime.date.today()\n",
    "    import csv\n",
    "    header = ['Title', ' Price', 'Date']\n",
    "    data = [title, price, today]\n",
    "    with open('AmazonScrapingTest.csv', 'a+', newline='' ,encoding = 'UTF8') as f:\n",
    "        writer = csv.writer(f)\n",
    "        writer.writerow(data)"
   ]
  },
  {
   "cell_type": "code",
   "execution_count": 298,
   "id": "126c337e-f65c-46eb-b078-b33ad995d5fb",
   "metadata": {},
   "outputs": [],
   "source": [
    "def check_price():\n",
    "    URL = 'https://www.amazon.co.uk/Data-Analyst-Definition-Analysis-T-Shirt/dp/B0C1TG8MM4/ref=sr_1_4?crid=3VKOUYKPYRMPM&dib=eyJ2IjoiMSJ9.jnfcK9Bap-3lq_bQqoM_kjkFTzkEaXZWjbXpIh3KP1JuIfnTePWnL73p7Az7BpWHkjQTyw931meWJg6znDYz6IUebBEnwGxK768YEoUIUpHIiOwcqp4xwZuf-wC27ho4wCGzQ1ou0TboolZy_5CGgz0ZijB_zX7ScU59tJVdXFyC5gw4xOqQgGkaLyit_mYN0tPfan1SG6C23tsRjUwmiuJ_w6IKJkLbFiRFxu4etGeLbXmN7p1A4VaSuPJLqlCMwHVQMMA9XVMg9bN16rx1NRa_A9Z_eVvUCdO6GT_zuB0tmNRALtOiC0S1fxaDqn4g-Mh1ysC_w6bgPMkNEIxbC-0O4YzRH9McnFJeuvkRdMTkEUYYaa0fCb6q3m4X7AljHWimwM156g-MMLKRsMcmWub0ctKoWFsJXHj-vg7PQWkvXC86d3dz0gr_-XWvUMyY.sOoFaRonCP9lCeriMl1Vex88SX_k9JlGeka6sJQSVZY&dib_tag=se&keywords=data+analysis+shirt&qid=1739529633&sprefix=data+analysis+shirt%2Caps%2C80&sr=8-4'\n",
    "    headers = {\"User-Agent\": \"Mozilla/5.0 (Windows NT 10.0; Win64; x64) AppleWebKit/537.36 (KHTML, like Gecko) Chrome/130.0.0.0 Safari/537.36 OPR/115.0.0.0 (Edition std-1)\"}\n",
    "    page = requests.get(URL, headers = headers)\n",
    "    soup1 = BeautifulSoup(page.content,\"html.parser\")\n",
    "    soup2 = BeautifulSoup(soup1.prettify(), \"html.parser\")\n",
    "    title = soup2.find(id = 'productTitle').get_text(strip=True)\n",
    "    price = soup2.find('span', class_='aok-offscreen').get_text(strip=True)[1:]\n",
    "    import datetime\n",
    "    today = datetime.date.today()\n",
    "    import csv\n",
    "    header = ['Title', ' Price', 'Date']\n",
    "    data = [title, price, today]\n",
    "    with open(r\"C:\\Users\\Christopher Moore\\AmazonScrapingTest.csv\", 'a+', newline='' ,encoding = 'UTF8') as f:\n",
    "        writer = csv.writer(f)\n",
    "        writer.writerow(data)"
   ]
  },
  {
   "cell_type": "code",
   "execution_count": 307,
   "id": "a5820b61-6abe-4beb-a099-557124848eda",
   "metadata": {},
   "outputs": [],
   "source": [
    "URL = 'https://www.amazon.co.uk/Data-Analyst-Definition-Analysis-T-Shirt/dp/B0C1TG8MM4/ref=sr_1_4?crid=3VKOUYKPYRMPM&dib=eyJ2IjoiMSJ9.jnfcK9Bap-3lq_bQqoM_kjkFTzkEaXZWjbXpIh3KP1JuIfnTePWnL73p7Az7BpWHkjQTyw931meWJg6znDYz6IUebBEnwGxK768YEoUIUpHIiOwcqp4xwZuf-wC27ho4wCGzQ1ou0TboolZy_5CGgz0ZijB_zX7ScU59tJVdXFyC5gw4xOqQgGkaLyit_mYN0tPfan1SG6C23tsRjUwmiuJ_w6IKJkLbFiRFxu4etGeLbXmN7p1A4VaSuPJLqlCMwHVQMMA9XVMg9bN16rx1NRa_A9Z_eVvUCdO6GT_zuB0tmNRALtOiC0S1fxaDqn4g-Mh1ysC_w6bgPMkNEIxbC-0O4YzRH9McnFJeuvkRdMTkEUYYaa0fCb6q3m4X7AljHWimwM156g-MMLKRsMcmWub0ctKoWFsJXHj-vg7PQWkvXC86d3dz0gr_-XWvUMyY.sOoFaRonCP9lCeriMl1Vex88SX_k9JlGeka6sJQSVZY&dib_tag=se&keywords=data+analysis+shirt&qid=1739529633&sprefix=data+analysis+shirt%2Caps%2C80&sr=8-4'\n",
    "headers = {\"User-Agent\": \"Mozilla/5.0 (Windows NT 10.0; Win64; x64) AppleWebKit/537.36 (KHTML, like Gecko) Chrome/130.0.0.0 Safari/537.36 OPR/115.0.0.0 (Edition std-1)\"}\n",
    "page = requests.get(URL, headers = headers)\n",
    "soup1 = BeautifulSoup(page.content,\"html.parser\")\n",
    "\n",
    "soup2 = BeautifulSoup(soup1.prettify(), \"html.parser\")\n",
    "title = soup2.find(id = 'productTitle').get_text(strip=True)\n",
    "price = soup2.find('span', class_='aok-offscreen').get_text(strip=True)[1:]\n",
    "import datetime\n",
    "today = datetime.date.today()\n",
    "import csv\n",
    "header = ['Title', ' Price', 'Date']\n",
    "data = [title, price, today]\n",
    "with open(r\"C:\\Users\\Christopher Moore\\AmazonScrapingTest.csv\", 'a+', newline='' ,encoding = 'UTF8') as f:\n",
    "    writer = csv.writer(f)\n",
    "    writer.writerow(data)"
   ]
  },
  {
   "cell_type": "code",
   "execution_count": 323,
   "id": "73ba4faf-0858-4ee3-a4d6-e64a78d1125f",
   "metadata": {},
   "outputs": [
    {
     "ename": "KeyboardInterrupt",
     "evalue": "",
     "output_type": "error",
     "traceback": [
      "\u001b[1;31m---------------------------------------------------------------------------\u001b[0m",
      "\u001b[1;31mKeyboardInterrupt\u001b[0m                         Traceback (most recent call last)",
      "Cell \u001b[1;32mIn[323], line 3\u001b[0m\n\u001b[0;32m      1\u001b[0m \u001b[38;5;66;03m#this would run but when i interup the kernal it doesn't work properly due to issue with jupyter notebook\u001b[39;00m\n\u001b[0;32m      2\u001b[0m \u001b[38;5;28;01mwhile\u001b[39;00m(\u001b[38;5;28;01mTrue\u001b[39;00m):\n\u001b[1;32m----> 3\u001b[0m     check_price()\n\u001b[0;32m      4\u001b[0m     time\u001b[38;5;241m.\u001b[39msleep(\u001b[38;5;241m1\u001b[39m)\n",
      "Cell \u001b[1;32mIn[315], line 4\u001b[0m, in \u001b[0;36mcheck_price\u001b[1;34m()\u001b[0m\n\u001b[0;32m      2\u001b[0m URL \u001b[38;5;241m=\u001b[39m \u001b[38;5;124m'\u001b[39m\u001b[38;5;124mhttps://www.amazon.co.uk/Data-Analyst-Definition-Analysis-T-Shirt/dp/B0C1TG8MM4/ref=sr_1_4?crid=3VKOUYKPYRMPM&dib=eyJ2IjoiMSJ9.jnfcK9Bap-3lq_bQqoM_kjkFTzkEaXZWjbXpIh3KP1JuIfnTePWnL73p7Az7BpWHkjQTyw931meWJg6znDYz6IUebBEnwGxK768YEoUIUpHIiOwcqp4xwZuf-wC27ho4wCGzQ1ou0TboolZy_5CGgz0ZijB_zX7ScU59tJVdXFyC5gw4xOqQgGkaLyit_mYN0tPfan1SG6C23tsRjUwmiuJ_w6IKJkLbFiRFxu4etGeLbXmN7p1A4VaSuPJLqlCMwHVQMMA9XVMg9bN16rx1NRa_A9Z_eVvUCdO6GT_zuB0tmNRALtOiC0S1fxaDqn4g-Mh1ysC_w6bgPMkNEIxbC-0O4YzRH9McnFJeuvkRdMTkEUYYaa0fCb6q3m4X7AljHWimwM156g-MMLKRsMcmWub0ctKoWFsJXHj-vg7PQWkvXC86d3dz0gr_-XWvUMyY.sOoFaRonCP9lCeriMl1Vex88SX_k9JlGeka6sJQSVZY&dib_tag=se&keywords=data+analysis+shirt&qid=1739529633&sprefix=data+analysis+shirt\u001b[39m\u001b[38;5;124m%\u001b[39m\u001b[38;5;124m2Caps\u001b[39m\u001b[38;5;124m%\u001b[39m\u001b[38;5;124m2C80&sr=8-4\u001b[39m\u001b[38;5;124m'\u001b[39m\n\u001b[0;32m      3\u001b[0m headers \u001b[38;5;241m=\u001b[39m {\u001b[38;5;124m\"\u001b[39m\u001b[38;5;124mUser-Agent\u001b[39m\u001b[38;5;124m\"\u001b[39m: \u001b[38;5;124m\"\u001b[39m\u001b[38;5;124mMozilla/5.0 (Windows NT 10.0; Win64; x64) AppleWebKit/537.36 (KHTML, like Gecko) Chrome/130.0.0.0 Safari/537.36 OPR/115.0.0.0 (Edition std-1)\u001b[39m\u001b[38;5;124m\"\u001b[39m}\n\u001b[1;32m----> 4\u001b[0m page \u001b[38;5;241m=\u001b[39m requests\u001b[38;5;241m.\u001b[39mget(URL, headers \u001b[38;5;241m=\u001b[39m headers)\n\u001b[0;32m      5\u001b[0m soup1 \u001b[38;5;241m=\u001b[39m BeautifulSoup(page\u001b[38;5;241m.\u001b[39mcontent,\u001b[38;5;124m\"\u001b[39m\u001b[38;5;124mhtml.parser\u001b[39m\u001b[38;5;124m\"\u001b[39m)\n\u001b[0;32m      6\u001b[0m soup2 \u001b[38;5;241m=\u001b[39m BeautifulSoup(soup1\u001b[38;5;241m.\u001b[39mprettify(), \u001b[38;5;124m\"\u001b[39m\u001b[38;5;124mhtml.parser\u001b[39m\u001b[38;5;124m\"\u001b[39m)\n",
      "File \u001b[1;32mC:\\ProgramData\\anaconda3\\Lib\\site-packages\\requests\\api.py:73\u001b[0m, in \u001b[0;36mget\u001b[1;34m(url, params, **kwargs)\u001b[0m\n\u001b[0;32m     62\u001b[0m \u001b[38;5;28;01mdef\u001b[39;00m \u001b[38;5;21mget\u001b[39m(url, params\u001b[38;5;241m=\u001b[39m\u001b[38;5;28;01mNone\u001b[39;00m, \u001b[38;5;241m*\u001b[39m\u001b[38;5;241m*\u001b[39mkwargs):\n\u001b[0;32m     63\u001b[0m \u001b[38;5;250m    \u001b[39m\u001b[38;5;124mr\u001b[39m\u001b[38;5;124;03m\"\"\"Sends a GET request.\u001b[39;00m\n\u001b[0;32m     64\u001b[0m \n\u001b[0;32m     65\u001b[0m \u001b[38;5;124;03m    :param url: URL for the new :class:`Request` object.\u001b[39;00m\n\u001b[1;32m   (...)\u001b[0m\n\u001b[0;32m     70\u001b[0m \u001b[38;5;124;03m    :rtype: requests.Response\u001b[39;00m\n\u001b[0;32m     71\u001b[0m \u001b[38;5;124;03m    \"\"\"\u001b[39;00m\n\u001b[1;32m---> 73\u001b[0m     \u001b[38;5;28;01mreturn\u001b[39;00m request(\u001b[38;5;124m\"\u001b[39m\u001b[38;5;124mget\u001b[39m\u001b[38;5;124m\"\u001b[39m, url, params\u001b[38;5;241m=\u001b[39mparams, \u001b[38;5;241m*\u001b[39m\u001b[38;5;241m*\u001b[39mkwargs)\n",
      "File \u001b[1;32mC:\\ProgramData\\anaconda3\\Lib\\site-packages\\requests\\api.py:59\u001b[0m, in \u001b[0;36mrequest\u001b[1;34m(method, url, **kwargs)\u001b[0m\n\u001b[0;32m     55\u001b[0m \u001b[38;5;66;03m# By using the 'with' statement we are sure the session is closed, thus we\u001b[39;00m\n\u001b[0;32m     56\u001b[0m \u001b[38;5;66;03m# avoid leaving sockets open which can trigger a ResourceWarning in some\u001b[39;00m\n\u001b[0;32m     57\u001b[0m \u001b[38;5;66;03m# cases, and look like a memory leak in others.\u001b[39;00m\n\u001b[0;32m     58\u001b[0m \u001b[38;5;28;01mwith\u001b[39;00m sessions\u001b[38;5;241m.\u001b[39mSession() \u001b[38;5;28;01mas\u001b[39;00m session:\n\u001b[1;32m---> 59\u001b[0m     \u001b[38;5;28;01mreturn\u001b[39;00m session\u001b[38;5;241m.\u001b[39mrequest(method\u001b[38;5;241m=\u001b[39mmethod, url\u001b[38;5;241m=\u001b[39murl, \u001b[38;5;241m*\u001b[39m\u001b[38;5;241m*\u001b[39mkwargs)\n",
      "File \u001b[1;32mC:\\ProgramData\\anaconda3\\Lib\\site-packages\\requests\\sessions.py:589\u001b[0m, in \u001b[0;36mSession.request\u001b[1;34m(self, method, url, params, data, headers, cookies, files, auth, timeout, allow_redirects, proxies, hooks, stream, verify, cert, json)\u001b[0m\n\u001b[0;32m    584\u001b[0m send_kwargs \u001b[38;5;241m=\u001b[39m {\n\u001b[0;32m    585\u001b[0m     \u001b[38;5;124m\"\u001b[39m\u001b[38;5;124mtimeout\u001b[39m\u001b[38;5;124m\"\u001b[39m: timeout,\n\u001b[0;32m    586\u001b[0m     \u001b[38;5;124m\"\u001b[39m\u001b[38;5;124mallow_redirects\u001b[39m\u001b[38;5;124m\"\u001b[39m: allow_redirects,\n\u001b[0;32m    587\u001b[0m }\n\u001b[0;32m    588\u001b[0m send_kwargs\u001b[38;5;241m.\u001b[39mupdate(settings)\n\u001b[1;32m--> 589\u001b[0m resp \u001b[38;5;241m=\u001b[39m \u001b[38;5;28mself\u001b[39m\u001b[38;5;241m.\u001b[39msend(prep, \u001b[38;5;241m*\u001b[39m\u001b[38;5;241m*\u001b[39msend_kwargs)\n\u001b[0;32m    591\u001b[0m \u001b[38;5;28;01mreturn\u001b[39;00m resp\n",
      "File \u001b[1;32mC:\\ProgramData\\anaconda3\\Lib\\site-packages\\requests\\sessions.py:746\u001b[0m, in \u001b[0;36mSession.send\u001b[1;34m(self, request, **kwargs)\u001b[0m\n\u001b[0;32m    743\u001b[0m         \u001b[38;5;28;01mpass\u001b[39;00m\n\u001b[0;32m    745\u001b[0m \u001b[38;5;28;01mif\u001b[39;00m \u001b[38;5;129;01mnot\u001b[39;00m stream:\n\u001b[1;32m--> 746\u001b[0m     r\u001b[38;5;241m.\u001b[39mcontent\n\u001b[0;32m    748\u001b[0m \u001b[38;5;28;01mreturn\u001b[39;00m r\n",
      "File \u001b[1;32mC:\\ProgramData\\anaconda3\\Lib\\site-packages\\requests\\models.py:902\u001b[0m, in \u001b[0;36mResponse.content\u001b[1;34m(self)\u001b[0m\n\u001b[0;32m    900\u001b[0m         \u001b[38;5;28mself\u001b[39m\u001b[38;5;241m.\u001b[39m_content \u001b[38;5;241m=\u001b[39m \u001b[38;5;28;01mNone\u001b[39;00m\n\u001b[0;32m    901\u001b[0m     \u001b[38;5;28;01melse\u001b[39;00m:\n\u001b[1;32m--> 902\u001b[0m         \u001b[38;5;28mself\u001b[39m\u001b[38;5;241m.\u001b[39m_content \u001b[38;5;241m=\u001b[39m \u001b[38;5;124mb\u001b[39m\u001b[38;5;124m\"\u001b[39m\u001b[38;5;124m\"\u001b[39m\u001b[38;5;241m.\u001b[39mjoin(\u001b[38;5;28mself\u001b[39m\u001b[38;5;241m.\u001b[39miter_content(CONTENT_CHUNK_SIZE)) \u001b[38;5;129;01mor\u001b[39;00m \u001b[38;5;124mb\u001b[39m\u001b[38;5;124m\"\u001b[39m\u001b[38;5;124m\"\u001b[39m\n\u001b[0;32m    904\u001b[0m \u001b[38;5;28mself\u001b[39m\u001b[38;5;241m.\u001b[39m_content_consumed \u001b[38;5;241m=\u001b[39m \u001b[38;5;28;01mTrue\u001b[39;00m\n\u001b[0;32m    905\u001b[0m \u001b[38;5;66;03m# don't need to release the connection; that's been handled by urllib3\u001b[39;00m\n\u001b[0;32m    906\u001b[0m \u001b[38;5;66;03m# since we exhausted the data.\u001b[39;00m\n",
      "File \u001b[1;32mC:\\ProgramData\\anaconda3\\Lib\\site-packages\\requests\\models.py:820\u001b[0m, in \u001b[0;36mResponse.iter_content.<locals>.generate\u001b[1;34m()\u001b[0m\n\u001b[0;32m    818\u001b[0m \u001b[38;5;28;01mif\u001b[39;00m \u001b[38;5;28mhasattr\u001b[39m(\u001b[38;5;28mself\u001b[39m\u001b[38;5;241m.\u001b[39mraw, \u001b[38;5;124m\"\u001b[39m\u001b[38;5;124mstream\u001b[39m\u001b[38;5;124m\"\u001b[39m):\n\u001b[0;32m    819\u001b[0m     \u001b[38;5;28;01mtry\u001b[39;00m:\n\u001b[1;32m--> 820\u001b[0m         \u001b[38;5;28;01myield from\u001b[39;00m \u001b[38;5;28mself\u001b[39m\u001b[38;5;241m.\u001b[39mraw\u001b[38;5;241m.\u001b[39mstream(chunk_size, decode_content\u001b[38;5;241m=\u001b[39m\u001b[38;5;28;01mTrue\u001b[39;00m)\n\u001b[0;32m    821\u001b[0m     \u001b[38;5;28;01mexcept\u001b[39;00m ProtocolError \u001b[38;5;28;01mas\u001b[39;00m e:\n\u001b[0;32m    822\u001b[0m         \u001b[38;5;28;01mraise\u001b[39;00m ChunkedEncodingError(e)\n",
      "File \u001b[1;32mC:\\ProgramData\\anaconda3\\Lib\\site-packages\\urllib3\\response.py:624\u001b[0m, in \u001b[0;36mHTTPResponse.stream\u001b[1;34m(self, amt, decode_content)\u001b[0m\n\u001b[0;32m    608\u001b[0m \u001b[38;5;250m\u001b[39m\u001b[38;5;124;03m\"\"\"\u001b[39;00m\n\u001b[0;32m    609\u001b[0m \u001b[38;5;124;03mA generator wrapper for the read() method. A call will block until\u001b[39;00m\n\u001b[0;32m    610\u001b[0m \u001b[38;5;124;03m``amt`` bytes have been read from the connection or until the\u001b[39;00m\n\u001b[1;32m   (...)\u001b[0m\n\u001b[0;32m    621\u001b[0m \u001b[38;5;124;03m    'content-encoding' header.\u001b[39;00m\n\u001b[0;32m    622\u001b[0m \u001b[38;5;124;03m\"\"\"\u001b[39;00m\n\u001b[0;32m    623\u001b[0m \u001b[38;5;28;01mif\u001b[39;00m \u001b[38;5;28mself\u001b[39m\u001b[38;5;241m.\u001b[39mchunked \u001b[38;5;129;01mand\u001b[39;00m \u001b[38;5;28mself\u001b[39m\u001b[38;5;241m.\u001b[39msupports_chunked_reads():\n\u001b[1;32m--> 624\u001b[0m     \u001b[38;5;28;01mfor\u001b[39;00m line \u001b[38;5;129;01min\u001b[39;00m \u001b[38;5;28mself\u001b[39m\u001b[38;5;241m.\u001b[39mread_chunked(amt, decode_content\u001b[38;5;241m=\u001b[39mdecode_content):\n\u001b[0;32m    625\u001b[0m         \u001b[38;5;28;01myield\u001b[39;00m line\n\u001b[0;32m    626\u001b[0m \u001b[38;5;28;01melse\u001b[39;00m:\n",
      "File \u001b[1;32mC:\\ProgramData\\anaconda3\\Lib\\site-packages\\urllib3\\response.py:828\u001b[0m, in \u001b[0;36mHTTPResponse.read_chunked\u001b[1;34m(self, amt, decode_content)\u001b[0m\n\u001b[0;32m    825\u001b[0m     \u001b[38;5;28;01mreturn\u001b[39;00m\n\u001b[0;32m    827\u001b[0m \u001b[38;5;28;01mwhile\u001b[39;00m \u001b[38;5;28;01mTrue\u001b[39;00m:\n\u001b[1;32m--> 828\u001b[0m     \u001b[38;5;28mself\u001b[39m\u001b[38;5;241m.\u001b[39m_update_chunk_length()\n\u001b[0;32m    829\u001b[0m     \u001b[38;5;28;01mif\u001b[39;00m \u001b[38;5;28mself\u001b[39m\u001b[38;5;241m.\u001b[39mchunk_left \u001b[38;5;241m==\u001b[39m \u001b[38;5;241m0\u001b[39m:\n\u001b[0;32m    830\u001b[0m         \u001b[38;5;28;01mbreak\u001b[39;00m\n",
      "File \u001b[1;32mC:\\ProgramData\\anaconda3\\Lib\\site-packages\\urllib3\\response.py:758\u001b[0m, in \u001b[0;36mHTTPResponse._update_chunk_length\u001b[1;34m(self)\u001b[0m\n\u001b[0;32m    756\u001b[0m \u001b[38;5;28;01mif\u001b[39;00m \u001b[38;5;28mself\u001b[39m\u001b[38;5;241m.\u001b[39mchunk_left \u001b[38;5;129;01mis\u001b[39;00m \u001b[38;5;129;01mnot\u001b[39;00m \u001b[38;5;28;01mNone\u001b[39;00m:\n\u001b[0;32m    757\u001b[0m     \u001b[38;5;28;01mreturn\u001b[39;00m\n\u001b[1;32m--> 758\u001b[0m line \u001b[38;5;241m=\u001b[39m \u001b[38;5;28mself\u001b[39m\u001b[38;5;241m.\u001b[39m_fp\u001b[38;5;241m.\u001b[39mfp\u001b[38;5;241m.\u001b[39mreadline()\n\u001b[0;32m    759\u001b[0m line \u001b[38;5;241m=\u001b[39m line\u001b[38;5;241m.\u001b[39msplit(\u001b[38;5;124mb\u001b[39m\u001b[38;5;124m\"\u001b[39m\u001b[38;5;124m;\u001b[39m\u001b[38;5;124m\"\u001b[39m, \u001b[38;5;241m1\u001b[39m)[\u001b[38;5;241m0\u001b[39m]\n\u001b[0;32m    760\u001b[0m \u001b[38;5;28;01mtry\u001b[39;00m:\n",
      "File \u001b[1;32mC:\\ProgramData\\anaconda3\\Lib\\socket.py:706\u001b[0m, in \u001b[0;36mSocketIO.readinto\u001b[1;34m(self, b)\u001b[0m\n\u001b[0;32m    704\u001b[0m \u001b[38;5;28;01mwhile\u001b[39;00m \u001b[38;5;28;01mTrue\u001b[39;00m:\n\u001b[0;32m    705\u001b[0m     \u001b[38;5;28;01mtry\u001b[39;00m:\n\u001b[1;32m--> 706\u001b[0m         \u001b[38;5;28;01mreturn\u001b[39;00m \u001b[38;5;28mself\u001b[39m\u001b[38;5;241m.\u001b[39m_sock\u001b[38;5;241m.\u001b[39mrecv_into(b)\n\u001b[0;32m    707\u001b[0m     \u001b[38;5;28;01mexcept\u001b[39;00m timeout:\n\u001b[0;32m    708\u001b[0m         \u001b[38;5;28mself\u001b[39m\u001b[38;5;241m.\u001b[39m_timeout_occurred \u001b[38;5;241m=\u001b[39m \u001b[38;5;28;01mTrue\u001b[39;00m\n",
      "File \u001b[1;32mC:\\ProgramData\\anaconda3\\Lib\\ssl.py:1311\u001b[0m, in \u001b[0;36mSSLSocket.recv_into\u001b[1;34m(self, buffer, nbytes, flags)\u001b[0m\n\u001b[0;32m   1307\u001b[0m     \u001b[38;5;28;01mif\u001b[39;00m flags \u001b[38;5;241m!=\u001b[39m \u001b[38;5;241m0\u001b[39m:\n\u001b[0;32m   1308\u001b[0m         \u001b[38;5;28;01mraise\u001b[39;00m \u001b[38;5;167;01mValueError\u001b[39;00m(\n\u001b[0;32m   1309\u001b[0m           \u001b[38;5;124m\"\u001b[39m\u001b[38;5;124mnon-zero flags not allowed in calls to recv_into() on \u001b[39m\u001b[38;5;132;01m%s\u001b[39;00m\u001b[38;5;124m\"\u001b[39m \u001b[38;5;241m%\u001b[39m\n\u001b[0;32m   1310\u001b[0m           \u001b[38;5;28mself\u001b[39m\u001b[38;5;241m.\u001b[39m\u001b[38;5;18m__class__\u001b[39m)\n\u001b[1;32m-> 1311\u001b[0m     \u001b[38;5;28;01mreturn\u001b[39;00m \u001b[38;5;28mself\u001b[39m\u001b[38;5;241m.\u001b[39mread(nbytes, buffer)\n\u001b[0;32m   1312\u001b[0m \u001b[38;5;28;01melse\u001b[39;00m:\n\u001b[0;32m   1313\u001b[0m     \u001b[38;5;28;01mreturn\u001b[39;00m \u001b[38;5;28msuper\u001b[39m()\u001b[38;5;241m.\u001b[39mrecv_into(buffer, nbytes, flags)\n",
      "File \u001b[1;32mC:\\ProgramData\\anaconda3\\Lib\\ssl.py:1167\u001b[0m, in \u001b[0;36mSSLSocket.read\u001b[1;34m(self, len, buffer)\u001b[0m\n\u001b[0;32m   1165\u001b[0m \u001b[38;5;28;01mtry\u001b[39;00m:\n\u001b[0;32m   1166\u001b[0m     \u001b[38;5;28;01mif\u001b[39;00m buffer \u001b[38;5;129;01mis\u001b[39;00m \u001b[38;5;129;01mnot\u001b[39;00m \u001b[38;5;28;01mNone\u001b[39;00m:\n\u001b[1;32m-> 1167\u001b[0m         \u001b[38;5;28;01mreturn\u001b[39;00m \u001b[38;5;28mself\u001b[39m\u001b[38;5;241m.\u001b[39m_sslobj\u001b[38;5;241m.\u001b[39mread(\u001b[38;5;28mlen\u001b[39m, buffer)\n\u001b[0;32m   1168\u001b[0m     \u001b[38;5;28;01melse\u001b[39;00m:\n\u001b[0;32m   1169\u001b[0m         \u001b[38;5;28;01mreturn\u001b[39;00m \u001b[38;5;28mself\u001b[39m\u001b[38;5;241m.\u001b[39m_sslobj\u001b[38;5;241m.\u001b[39mread(\u001b[38;5;28mlen\u001b[39m)\n",
      "\u001b[1;31mKeyboardInterrupt\u001b[0m: "
     ]
    }
   ],
   "source": [
    "#this would run but when i interup the kernal it doesn't work properly due to issue with jupyter notebook\n",
    "while(True):\n",
    "    check_price()\n",
    "    time.sleep(1)"
   ]
  },
  {
   "cell_type": "code",
   "execution_count": 1,
   "id": "ce8d0517-cbc4-4252-9527-019a0d62d333",
   "metadata": {},
   "outputs": [
    {
     "name": "stdout",
     "output_type": "stream",
     "text": [
      "                                           Title   Price        Date\n",
      "0  Data Analyst Definition Data Analysis T-Shirt   16.99  2025-02-14\n",
      "1  Data Analyst Definition Data Analysis T-Shirt   16.99  2025-02-14\n",
      "2  Data Analyst Definition Data Analysis T-Shirt   16.99  2025-02-14\n",
      "3  Data Analyst Definition Data Analysis T-Shirt   16.99  2025-02-14\n",
      "4  Data Analyst Definition Data Analysis T-Shirt   16.99  2025-02-14\n",
      "5  Data Analyst Definition Data Analysis T-Shirt   16.99  2025-02-14\n",
      "6  Data Analyst Definition Data Analysis T-Shirt   16.99  2025-02-14\n",
      "7  Data Analyst Definition Data Analysis T-Shirt   16.99  2025-02-14\n",
      "8  Data Analyst Definition Data Analysis T-Shirt   16.99  2025-02-14\n"
     ]
    }
   ],
   "source": [
    "import pandas as pd\n",
    "df = pd.read_csv(r\"C:\\Users\\Christopher Moore\\AmazonScrapingTest.csv\")\n",
    "print(df)"
   ]
  },
  {
   "cell_type": "code",
   "execution_count": null,
   "id": "bd41e97f-beb0-48a7-a7a5-2359d4d39eab",
   "metadata": {},
   "outputs": [],
   "source": []
  },
  {
   "cell_type": "code",
   "execution_count": null,
   "id": "6649f6bd-fb34-4ce1-9b7d-0136825d4088",
   "metadata": {},
   "outputs": [],
   "source": []
  },
  {
   "cell_type": "code",
   "execution_count": null,
   "id": "14758683-ea9b-430d-80ce-28dc4ec16a4c",
   "metadata": {},
   "outputs": [],
   "source": []
  },
  {
   "cell_type": "code",
   "execution_count": null,
   "id": "aeced747-1464-4c0e-b2c3-b5578940ed24",
   "metadata": {},
   "outputs": [],
   "source": []
  },
  {
   "cell_type": "code",
   "execution_count": null,
   "id": "b4ffb0e2-b19f-4697-acb1-2a4627cd2701",
   "metadata": {},
   "outputs": [],
   "source": []
  },
  {
   "cell_type": "code",
   "execution_count": null,
   "id": "8cd66736-76ed-4306-8978-11b2a5ef5c95",
   "metadata": {},
   "outputs": [],
   "source": []
  },
  {
   "cell_type": "code",
   "execution_count": null,
   "id": "49c22bef-a893-452d-81f5-abbfe6757afe",
   "metadata": {},
   "outputs": [],
   "source": []
  },
  {
   "cell_type": "code",
   "execution_count": null,
   "id": "cbd0dc5a-2dbc-4e4a-b892-d5c40e884561",
   "metadata": {},
   "outputs": [],
   "source": []
  },
  {
   "cell_type": "code",
   "execution_count": null,
   "id": "6fc0baf6-c876-4717-9147-f55a20443afe",
   "metadata": {},
   "outputs": [],
   "source": []
  },
  {
   "cell_type": "code",
   "execution_count": null,
   "id": "06d8f577-1b8b-4e5f-a0f0-8c17642414f6",
   "metadata": {},
   "outputs": [],
   "source": []
  },
  {
   "cell_type": "code",
   "execution_count": null,
   "id": "681a0752-2657-4077-b651-f211b98af178",
   "metadata": {},
   "outputs": [],
   "source": []
  }
 ],
 "metadata": {
  "kernelspec": {
   "display_name": "Python [conda env:base] *",
   "language": "python",
   "name": "conda-base-py"
  },
  "language_info": {
   "codemirror_mode": {
    "name": "ipython",
    "version": 3
   },
   "file_extension": ".py",
   "mimetype": "text/x-python",
   "name": "python",
   "nbconvert_exporter": "python",
   "pygments_lexer": "ipython3",
   "version": "3.11.5"
  }
 },
 "nbformat": 4,
 "nbformat_minor": 5
}
